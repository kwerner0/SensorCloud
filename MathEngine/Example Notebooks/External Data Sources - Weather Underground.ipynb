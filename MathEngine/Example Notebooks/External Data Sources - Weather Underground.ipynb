{
 "cells": [
  {
   "cell_type": "markdown",
   "metadata": {},
   "source": [
    "<h1>Get Weather </h1>\n",
    "<h2>This Notebook Demonstrates</h2>\n",
    "<ul>\n",
    "<li>Getting data using 3rd party API, Weather Underground</li>\n",
    "<li>Parsing a JSON </li>\n",
    "<li>Pushing channel data to SensorCloud </li>\n",
    "<li>Scheduling </li>\n",
    "</ul>"
   ]
  },
  {
   "cell_type": "code",
   "execution_count": null,
   "metadata": {
    "collapsed": false
   },
   "outputs": [],
   "source": [
    "#weather underground connection information \n",
    "import urllib2\n",
    "import json\n",
    "\n",
    "wuAPIkey = 'FFFFFFFFFFFFFFFFF'  #get your free api key at http://www.wunderground.com/weather/api/\n",
    "zipcode = '90210'            #set your own zip code\n",
    "\n",
    "url = 'http://api.wunderground.com/api/' + wuAPIkey + '/geolookup/conditions/q/IA/' + zipcode + '.json'\n"
   ]
  },
  {
   "cell_type": "code",
   "execution_count": null,
   "metadata": {
    "collapsed": false
   },
   "outputs": [],
   "source": [
    "# WSDA Data Location Information\n",
    "deviceSerial = 'FFFFFFFFFFFFFFFFF' #set your own WSDA serial here to post back to SensorCloud\n",
    "inSensor     = 'WeatherUnderground'\n",
    "inChannel1   = 'Temperature'\n",
    "inChannel2   = 'Humidity'\n",
    "inChannel3   = 'DewPoint'\n",
    "inChannel4   = 'WindSpeedMPH'\n",
    "\n",
    "repo = TimeSeriesRepo(deviceSerial)\n",
    "\n",
    "try:\n",
    "    outSeries1 = repo.createTimeSeries(inSensor, inChannel1, 900, 'seconds')\n",
    "except:\n",
    "    outSeries1 = repo.getAllTimeSeries(inSensor, inChannel1)[0]\n",
    "    \n",
    "try:\n",
    "    outSeries2 = repo.createTimeSeries(inSensor, inChannel2, 900, 'seconds')\n",
    "except:\n",
    "    outSeries2 = repo.getAllTimeSeries(inSensor, inChannel2)[0]\n",
    "    \n",
    "try:\n",
    "    outSeries3 = repo.createTimeSeries(inSensor, inChannel3, 900, 'seconds')\n",
    "except:\n",
    "    outSeries3 = repo.getAllTimeSeries(inSensor, inChannel3)[0]\n",
    "    \n",
    "try:\n",
    "    outSeries4 = repo.createTimeSeries(inSensor, inChannel4, 900, 'seconds')\n",
    "except:\n",
    "    outSeries4 = repo.getAllTimeSeries(inSensor, inChannel4)[0]"
   ]
  },
  {
   "cell_type": "code",
   "execution_count": null,
   "metadata": {
    "collapsed": false
   },
   "outputs": [],
   "source": [
    "# Getting the data from weather underground\n",
    "f = urllib2.urlopen(url)\n",
    "json_string = f.read()\n",
    "parsed_json = json.loads(json_string)\n",
    "location = parsed_json['location']['city']\n",
    "f.close()"
   ]
  },
  {
   "cell_type": "code",
   "execution_count": null,
   "metadata": {
    "collapsed": false
   },
   "outputs": [],
   "source": [
    "# Parsing the json data\n",
    "rh_s = parsed_json['current_observation']['relative_humidity']\n",
    "temp_c = parsed_json['current_observation']['temp_c']\n",
    "dewpoint_c = parsed_json['current_observation']['dewpoint_c']\n",
    "wind_mph = parsed_json['current_observation']['wind_mph']\n",
    "time_s = parsed_json['current_observation']['local_epoch']\n",
    "time_offset_hours = parsed_json['current_observation']['local_tz_offset']"
   ]
  },
  {
   "cell_type": "code",
   "execution_count": null,
   "metadata": {
    "collapsed": false
   },
   "outputs": [],
   "source": [
    "#Turning %RH to float\n",
    "rh_f = float(rh_s.replace(\"%\",\"\"))"
   ]
  },
  {
   "cell_type": "code",
   "execution_count": null,
   "metadata": {
    "collapsed": false
   },
   "outputs": [],
   "source": [
    "#Turning time in seconds into time in nanoseconds\n",
    "time_ns = float(time_s) *  NANO_PER_SEC"
   ]
  },
  {
   "cell_type": "code",
   "execution_count": null,
   "metadata": {
    "collapsed": false
   },
   "outputs": [],
   "source": [
    "print time_ns"
   ]
  },
  {
   "cell_type": "code",
   "execution_count": null,
   "metadata": {
    "collapsed": false
   },
   "outputs": [],
   "source": [
    "#creating tupuls (time,value)\n",
    "outData1 = [(time_ns, temp_c)]\n",
    "outData2 = [(time_ns, rh_f)]\n",
    "outData3 = [(time_ns, dewpoint_c)]\n",
    "outData4 = [(time_ns, wind_mph)]\n",
    "print 'outData1: ',outData1\n",
    "print 'outData2: ',outData2\n",
    "print 'outData3: ',outData3\n",
    "print 'outData4: ',outData4"
   ]
  },
  {
   "cell_type": "code",
   "execution_count": null,
   "metadata": {
    "collapsed": false
   },
   "outputs": [],
   "source": [
    "#Publishing data to SensorCloud\n",
    "\n",
    "#outSeries1.push(outData1)\n",
    "#outSeries1.save()\n",
    "#outSeries1.tagAsMathengine()\n",
    "\n",
    "#outSeries2.push(outData2)\n",
    "#outSeries2.save()\n",
    "#outSeries2.tagAsMathengine()\n",
    "\n",
    "#outSeries3.push(outData3)\n",
    "#outSeries3.save()\n",
    "#outSeries3.tagAsMathengine()\n",
    "\n",
    "#outSeries4.push(outData4)\n",
    "#outSeries4.save()\n",
    "#outSeries4.tagAsMathengine()"
   ]
  },
  {
   "cell_type": "code",
   "execution_count": null,
   "metadata": {
    "collapsed": false
   },
   "outputs": [],
   "source": [
    "#this will print in the MathEngine output console\n",
    "print 'this event data is from: ', float(time_s)"
   ]
  },
  {
   "cell_type": "code",
   "execution_count": null,
   "metadata": {
    "collapsed": false
   },
   "outputs": [],
   "source": [
    "#print out the whole json (use for debugging)\n",
    "parsed_json"
   ]
  },
  {
   "cell_type": "code",
   "execution_count": null,
   "metadata": {
    "collapsed": true
   },
   "outputs": [],
   "source": []
  }
 ],
 "metadata": {
  "id": "571ab56e-1ec4-41cc-9f32-f6af3711b74a",
  "kernelspec": {
   "display_name": "Python 2",
   "language": "python",
   "name": "python2"
  },
  "language_info": {
   "codemirror_mode": {
    "name": "ipython",
    "version": 2
   },
   "file_extension": ".py",
   "mimetype": "text/x-python",
   "name": "python",
   "nbconvert_exporter": "python",
   "pygments_lexer": "ipython2",
   "version": "2.7.11"
  }
 },
 "nbformat": 4,
 "nbformat_minor": 0
}
